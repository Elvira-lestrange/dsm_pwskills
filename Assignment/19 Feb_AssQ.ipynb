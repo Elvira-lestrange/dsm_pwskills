{
 "cells": [
  {
   "cell_type": "markdown",
   "id": "eba308b8-9387-4331-a6bb-206f71992cc6",
   "metadata": {},
   "source": [
    "1)Flask is a micro web framework written in Python.\n",
    "pros:\n",
    "It is a lightweight framework that offers hassle-free development.\n",
    "Provide flexibility to the developer to experiment with their modules or architecture.\n",
    "It is suitable for small projects.\n",
    "Offers a built-in development server and fast debugger.\n",
    "Easily scalable for the applications."
   ]
  },
  {
   "cell_type": "code",
   "execution_count": 5,
   "id": "2d038ef9-9809-4be8-9b13-f2d953aa885f",
   "metadata": {},
   "outputs": [],
   "source": [
    "from IPython.display import Image"
   ]
  },
  {
   "cell_type": "code",
   "execution_count": 6,
   "id": "28f3d53d-db22-49f1-a65d-2a0819a29cf0",
   "metadata": {},
   "outputs": [
    {
     "data": {
      "text/html": [
       "<img src=\"ss.png\"/>"
      ],
      "text/plain": [
       "<IPython.core.display.Image object>"
      ]
     },
     "execution_count": 6,
     "metadata": {},
     "output_type": "execute_result"
    }
   ],
   "source": [
    "Image(url=\"ss.png\")"
   ]
  },
  {
   "cell_type": "code",
   "execution_count": null,
   "id": "a9ff17ae-5e57-4c83-aa99-9adaeaba6a78",
   "metadata": {},
   "outputs": [],
   "source": [
    "#2) \n",
    "from flask import Flask\n",
    "from flask import request\n",
    "\n",
    "app = Flask(__name__)\n",
    "\n",
    "@app.route(\"/\")\n",
    "def hello_world():\n",
    "    return \"Hello World!!\""
   ]
  },
  {
   "cell_type": "markdown",
   "id": "7f12ad4f-3ff8-45ef-91a4-ee940ebc3799",
   "metadata": {},
   "source": [
    "3) App Routing means mapping the URLs to a specific function that will handle the logic for that URL. Modern web frameworks use more meaningful URLs to help users remember the URLs and make navigation simpler."
   ]
  },
  {
   "cell_type": "code",
   "execution_count": null,
   "id": "885b57e0-e9d0-48c6-9744-68a9cf0f8534",
   "metadata": {},
   "outputs": [],
   "source": [
    "from flask import Flask\n",
    "from flask import request\n",
    "\n",
    "app = Flask(__name__)\n",
    "\n",
    "@app.route(\"/\")\n",
    "def fun2():\n",
    "    x='''Company Name: ABC Corporation\n",
    "       Location: India\n",
    "       Contact Detail: 999-999-9999'''\n",
    "    return x \n",
    "\n",
    "\n",
    "\n",
    "\n",
    "@app.route(\"/welcome\")\n",
    "def fun():\n",
    "    return \"Welcome to ABC Corporation\"\n",
    "\n",
    "if __name__==\"__main__\":\n",
    "    app.run(host=\"0.0.0.0\")\n"
   ]
  },
  {
   "cell_type": "code",
   "execution_count": 8,
   "id": "930fbe1d-635e-4a25-97ce-d8d379b94468",
   "metadata": {},
   "outputs": [
    {
     "data": {
      "text/html": [
       "<img src=\"ss1.png\"/>"
      ],
      "text/plain": [
       "<IPython.core.display.Image object>"
      ]
     },
     "execution_count": 8,
     "metadata": {},
     "output_type": "execute_result"
    }
   ],
   "source": [
    "Image(url=\"ss1.png\")"
   ]
  },
  {
   "cell_type": "code",
   "execution_count": 9,
   "id": "677a1ed2-bcc6-4937-b8d9-b9b718e92ad7",
   "metadata": {},
   "outputs": [
    {
     "data": {
      "text/html": [
       "<img src=\"ss2.png\"/>"
      ],
      "text/plain": [
       "<IPython.core.display.Image object>"
      ]
     },
     "execution_count": 9,
     "metadata": {},
     "output_type": "execute_result"
    }
   ],
   "source": [
    "Image(url=\"ss2.png\")"
   ]
  },
  {
   "cell_type": "markdown",
   "id": "7bed02f1-5a68-46ea-bd55-f5494c6a3c18",
   "metadata": {},
   "source": [
    "5) The url_for() function is very useful for dynamically building a URL for a specific function. The function accepts the name of a function as first argument, and one or more keyword arguments, each corresponding to the variable part of URL"
   ]
  },
  {
   "cell_type": "code",
   "execution_count": null,
   "id": "2927e860-e73c-4233-a220-073ea5a15559",
   "metadata": {},
   "outputs": [],
   "source": [
    "from flask import Flask, redirect, url_for\n",
    "app = Flask(__name__)\n",
    "\n",
    "@app.route('/admin')\n",
    "def hello_admin():\n",
    "   return 'Hello Admin'\n",
    "\n",
    "@app.route('/guest/<guest>')\n",
    "def hello_guest(guest):\n",
    "   return 'Hello %s as Guest' % guest\n",
    "\n",
    "@app.route('/user/<name>')\n",
    "def hello_user(name):\n",
    "   if name =='admin':\n",
    "      return redirect(url_for('hello_admin'))\n",
    "   else:\n",
    "      return redirect(url_for('hello_guest',guest = name))\n",
    "\n",
    "if __name__ == '__main__':\n",
    "   app.run(debug = True)"
   ]
  }
 ],
 "metadata": {
  "kernelspec": {
   "display_name": "Python 3 (ipykernel)",
   "language": "python",
   "name": "python3"
  },
  "language_info": {
   "codemirror_mode": {
    "name": "ipython",
    "version": 3
   },
   "file_extension": ".py",
   "mimetype": "text/x-python",
   "name": "python",
   "nbconvert_exporter": "python",
   "pygments_lexer": "ipython3",
   "version": "3.10.8"
  }
 },
 "nbformat": 4,
 "nbformat_minor": 5
}
